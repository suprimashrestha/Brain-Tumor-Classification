{
  "cells": [
    {
      "cell_type": "markdown",
      "metadata": {
        "id": "view-in-github",
        "colab_type": "text"
      },
      "source": [
        "<a href=\"https://colab.research.google.com/github/suprimashrestha/MyModels/blob/main/Custom_CNN_2.ipynb\" target=\"_parent\"><img src=\"https://colab.research.google.com/assets/colab-badge.svg\" alt=\"Open In Colab\"/></a>"
      ]
    },
    {
      "cell_type": "code",
      "execution_count": null,
      "metadata": {
        "id": "RUuSPd-nFepR"
      },
      "outputs": [],
      "source": [
        "import numpy as np\n",
        "import pandas as pd\n",
        "import seaborn as sns\n",
        "import matplotlib.pyplot as plt\n",
        "import cv2\n",
        "import tensorflow as tf\n",
        "from tensorflow.keras.preprocessing.image import ImageDataGenerator\n",
        "from tqdm import tqdm\n",
        "import os\n",
        "from sklearn.utils import shuffle\n",
        "from sklearn.model_selection import train_test_split"
      ]
    },
    {
      "cell_type": "code",
      "execution_count": null,
      "metadata": {
        "id": "YLB4_Bkrwh4N"
      },
      "outputs": [],
      "source": [
        "from sklearn.metrics import classification_report, confusion_matrix\n",
        "from PIL import Image\n",
        "from IPython.display import display, clear_output\n",
        "import io\n",
        "from keras import layers\n",
        "from tensorflow.keras.models import Model, Sequential\n",
        "from tensorflow.keras.layers import Conv2D, MaxPooling2D, AveragePooling2D, GlobalAveragePooling2D\n",
        "from tensorflow.keras.layers import Input, Dense, Dropout, Flatten, Activation,Concatenate, BatchNormalization"
      ]
    },
    {
      "cell_type": "code",
      "execution_count": null,
      "metadata": {
        "id": "S2yQD3RlFgxA"
      },
      "outputs": [],
      "source": [
        "# Set up paths to the training and testing directories\n",
        "train_dir = '/content/drive/MyDrive/NAAMII /MRI/Training'\n",
        "test_dir = '/content/drive/MyDrive/NAAMII /MRI/Testing'"
      ]
    },
    {
      "cell_type": "code",
      "execution_count": null,
      "metadata": {
        "id": "BOC7ds81WrR4"
      },
      "outputs": [],
      "source": [
        "from sklearn.model_selection import train_test_split"
      ]
    },
    {
      "cell_type": "code",
      "execution_count": null,
      "metadata": {
        "id": "QzpKQ3G6KbVf"
      },
      "outputs": [],
      "source": [
        "train, val = train_test_split(train_dir, test_size=0.1,random_state=14)"
      ]
    },
    {
      "cell_type": "code",
      "execution_count": null,
      "metadata": {
        "id": "O1VTCHHHUvFV"
      },
      "outputs": [],
      "source": [
        "from tqdm import tqdm"
      ]
    },
    {
      "cell_type": "code",
      "execution_count": null,
      "metadata": {
        "colab": {
          "base_uri": "https://localhost:8080/"
        },
        "id": "tmrGIvfmK9MX",
        "outputId": "0230e3e2-8260-4f39-90ae-f6407d20f170"
      },
      "outputs": [
        {
          "output_type": "stream",
          "name": "stderr",
          "text": [
            "100%|██████████| 826/826 [00:21<00:00, 38.43it/s] \n",
            "100%|██████████| 822/822 [00:23<00:00, 34.87it/s] \n",
            "100%|██████████| 395/395 [00:13<00:00, 29.25it/s] \n",
            "100%|██████████| 827/827 [00:22<00:00, 36.47it/s] \n",
            "100%|██████████| 100/100 [00:12<00:00,  8.04it/s]\n",
            "100%|██████████| 115/115 [00:13<00:00,  8.42it/s]\n",
            "100%|██████████| 105/105 [00:07<00:00, 13.23it/s]\n",
            "100%|██████████| 74/74 [00:49<00:00,  1.49it/s]\n"
          ]
        }
      ],
      "source": [
        "labels = ['glioma_tumor', 'meningioma_tumor', 'no_tumor', 'pituitary_tumor']\n",
        "X_train = []\n",
        "y_train = []\n",
        "X_test = []\n",
        "y_test = []\n",
        "image_size = 224\n",
        "for i in labels:\n",
        "    folderPath = os.path.join(\"/content/drive/MyDrive/NAAMII/MRI/Training\", i)\n",
        "    for j in tqdm(os.listdir(folderPath)):\n",
        "        img = cv2.imread(os.path.join(folderPath,j))\n",
        "        img = cv2.resize(img,(image_size, image_size))\n",
        "        X_train.append(img)\n",
        "        y_train.append(i)\n",
        "        \n",
        "for i in labels:\n",
        "    folderPath = os.path.join(\"/content/drive/MyDrive/NAAMII/MRI/Testing\", i)\n",
        "    for j in tqdm(os.listdir(folderPath)):\n",
        "        img = cv2.imread(os.path.join(folderPath,j))\n",
        "        img = cv2.resize(img,(image_size,image_size))\n",
        "        X_test.append(img)\n",
        "        y_test.append(i)\n",
        "        \n",
        "X_train = np.array(X_train)\n",
        "y_train = np.array(y_train)\n",
        "\n",
        "X_test = np.array(X_test)\n",
        "y_test = np.array(y_test)"
      ]
    },
    {
      "cell_type": "code",
      "execution_count": null,
      "metadata": {
        "colab": {
          "base_uri": "https://localhost:8080/"
        },
        "id": "fTLCI2FJyu2k",
        "outputId": "7a684d1b-7860-423f-9c32-9ed5ecd0e232"
      },
      "outputs": [
        {
          "output_type": "stream",
          "name": "stdout",
          "text": [
            "Mounted at /content/drive\n"
          ]
        }
      ],
      "source": [
        "from google.colab import drive\n",
        "drive.mount('/content/drive')"
      ]
    },
    {
      "cell_type": "code",
      "execution_count": null,
      "metadata": {
        "id": "migFmsw9VftE"
      },
      "outputs": [],
      "source": [
        "y_train_new = []\n",
        "for i in y_train:\n",
        "    y_train_new.append(labels.index(i))\n",
        "y_train = y_train_new\n",
        "y_train = tf.keras.utils.to_categorical(y_train)\n",
        "\n",
        "\n",
        "y_test_new = []\n",
        "for i in y_test:\n",
        "    y_test_new.append(labels.index(i))\n",
        "y_test = y_test_new\n",
        "y_test = tf.keras.utils.to_categorical(y_test)"
      ]
    },
    {
      "cell_type": "code",
      "execution_count": null,
      "metadata": {
        "id": "1SUo0VFtVSNP"
      },
      "outputs": [],
      "source": [
        "X_train,X_val,y_train,y_val = train_test_split(X_train,y_train, test_size=0.1,random_state=14)"
      ]
    },
    {
      "cell_type": "code",
      "execution_count": null,
      "metadata": {
        "id": "Ngdz9Bp9Vil_"
      },
      "outputs": [],
      "source": [
        "X_train = np.array(X_train) / 255.\n",
        "X_val = np.array(X_val) / 255.\n",
        "X_test = np.array(X_test) / 255."
      ]
    },
    {
      "cell_type": "code",
      "source": [
        "model = Sequential()\n",
        "\n",
        "model.add(Conv2D(16, (3, 3), padding='same', input_shape=(image_size, image_size, 3), activation='relu')) \n",
        "model.add(BatchNormalization())\n",
        "\n",
        "model.add(Conv2D(16, (3, 3), activation='relu')) \n",
        "model.add(MaxPooling2D(pool_size=(2, 2))) \n",
        "model.add(BatchNormalization())\n",
        "model.add(Dropout(0.25))\n",
        "\n",
        "model.add(Conv2D(8, (3, 3), activation='relu'))\n",
        "model.add(BatchNormalization()) \n",
        "\n",
        "model.add(Flatten()) \n",
        "model.add(Dense(4, activation='softmax'))\n",
        "\n",
        "model.compile(optimizer='adam', loss='categorical_crossentropy', metrics=['accuracy'])"
      ],
      "metadata": {
        "id": "BNqShVW4TgOk"
      },
      "execution_count": null,
      "outputs": []
    },
    {
      "cell_type": "code",
      "source": [
        "history = model.fit(X_train, y_train,validation_split=0.1, verbose=1, batch_size = 32, validation_data = (X_val, y_val),\n",
        "                     epochs = 20)"
      ],
      "metadata": {
        "colab": {
          "base_uri": "https://localhost:8080/"
        },
        "id": "-e6uW3ezUmU2",
        "outputId": "fd613e6f-82c6-45d0-fc32-fb510d4cdd63"
      },
      "execution_count": null,
      "outputs": [
        {
          "output_type": "stream",
          "name": "stdout",
          "text": [
            "Epoch 1/20\n",
            "81/81 [==============================] - 294s 4s/step - loss: 2.3496 - accuracy: 0.6860 - val_loss: 5.1551 - val_accuracy: 0.2822\n",
            "Epoch 2/20\n",
            "81/81 [==============================] - 259s 3s/step - loss: 0.4465 - accuracy: 0.9048 - val_loss: 7.0839 - val_accuracy: 0.3415\n",
            "Epoch 3/20\n",
            "81/81 [==============================] - 259s 3s/step - loss: 0.2463 - accuracy: 0.9497 - val_loss: 5.0612 - val_accuracy: 0.4111\n",
            "Epoch 4/20\n",
            "81/81 [==============================] - 258s 3s/step - loss: 0.2052 - accuracy: 0.9601 - val_loss: 4.0551 - val_accuracy: 0.5261\n",
            "Epoch 5/20\n",
            "81/81 [==============================] - 256s 3s/step - loss: 0.1716 - accuracy: 0.9644 - val_loss: 6.3963 - val_accuracy: 0.6237\n",
            "Epoch 6/20\n",
            "81/81 [==============================] - 255s 3s/step - loss: 0.1186 - accuracy: 0.9748 - val_loss: 2.3290 - val_accuracy: 0.7422\n",
            "Epoch 7/20\n",
            "81/81 [==============================] - 255s 3s/step - loss: 0.1149 - accuracy: 0.9775 - val_loss: 2.4703 - val_accuracy: 0.7631\n",
            "Epoch 8/20\n",
            "81/81 [==============================] - 256s 3s/step - loss: 0.0675 - accuracy: 0.9841 - val_loss: 2.9072 - val_accuracy: 0.7491\n",
            "Epoch 9/20\n",
            "81/81 [==============================] - 253s 3s/step - loss: 0.1155 - accuracy: 0.9783 - val_loss: 4.4703 - val_accuracy: 0.7003\n",
            "Epoch 10/20\n",
            "81/81 [==============================] - 252s 3s/step - loss: 0.0969 - accuracy: 0.9830 - val_loss: 1.5180 - val_accuracy: 0.8258\n",
            "Epoch 11/20\n",
            "81/81 [==============================] - 252s 3s/step - loss: 0.0433 - accuracy: 0.9911 - val_loss: 4.3801 - val_accuracy: 0.6864\n",
            "Epoch 12/20\n",
            "81/81 [==============================] - 252s 3s/step - loss: 0.0733 - accuracy: 0.9830 - val_loss: 1.7727 - val_accuracy: 0.8502\n",
            "Epoch 13/20\n",
            "81/81 [==============================] - 255s 3s/step - loss: 0.1069 - accuracy: 0.9841 - val_loss: 1.4802 - val_accuracy: 0.8711\n",
            "Epoch 14/20\n",
            "81/81 [==============================] - 255s 3s/step - loss: 0.0392 - accuracy: 0.9903 - val_loss: 1.4663 - val_accuracy: 0.8990\n",
            "Epoch 15/20\n",
            "81/81 [==============================] - 254s 3s/step - loss: 0.0698 - accuracy: 0.9876 - val_loss: 2.2229 - val_accuracy: 0.8432\n",
            "Epoch 16/20\n",
            "81/81 [==============================] - 256s 3s/step - loss: 0.0855 - accuracy: 0.9830 - val_loss: 3.1634 - val_accuracy: 0.7979\n",
            "Epoch 17/20\n",
            "81/81 [==============================] - 256s 3s/step - loss: 0.0662 - accuracy: 0.9853 - val_loss: 2.4800 - val_accuracy: 0.8397\n",
            "Epoch 18/20\n",
            "81/81 [==============================] - 254s 3s/step - loss: 0.0370 - accuracy: 0.9923 - val_loss: 2.1427 - val_accuracy: 0.8571\n",
            "Epoch 19/20\n",
            "81/81 [==============================] - 256s 3s/step - loss: 0.0636 - accuracy: 0.9892 - val_loss: 1.6926 - val_accuracy: 0.8780\n",
            "Epoch 20/20\n",
            "81/81 [==============================] - 256s 3s/step - loss: 0.0628 - accuracy: 0.9911 - val_loss: 2.1712 - val_accuracy: 0.8641\n"
          ]
        }
      ]
    },
    {
      "cell_type": "code",
      "source": [
        "# Evaluate the model on the test set\n",
        "test_loss, test_acc = model.evaluate(X_test, y_test)\n",
        "print('Test loss:', test_loss)\n",
        "print('Test accuracy:', test_acc)"
      ],
      "metadata": {
        "colab": {
          "base_uri": "https://localhost:8080/"
        },
        "id": "A8ZzMcW2VCX5",
        "outputId": "238ea20b-fd6e-47c0-b5c3-c2adc453b654"
      },
      "execution_count": null,
      "outputs": [
        {
          "output_type": "stream",
          "name": "stdout",
          "text": [
            "13/13 [==============================] - 8s 622ms/step - loss: 14.6903 - accuracy: 0.7259\n",
            "Test loss: 14.69028377532959\n",
            "Test accuracy: 0.7258883118629456\n"
          ]
        }
      ]
    },
    {
      "cell_type": "code",
      "source": [
        "plt.plot(history.history['loss'])\n",
        "plt.plot(history.history['val_loss'])\n",
        "plt.title('model loss')\n",
        "plt.ylabel('loss')\n",
        "plt.xlabel('epoch')\n",
        "plt.legend(['train', 'test'], loc='upper left')\n",
        "plt.show()"
      ],
      "metadata": {
        "colab": {
          "base_uri": "https://localhost:8080/",
          "height": 472
        },
        "id": "SJ5MWOzpo7tk",
        "outputId": "7230a886-478d-4823-f368-20db2c7e0b00"
      },
      "execution_count": null,
      "outputs": [
        {
          "output_type": "display_data",
          "data": {
            "text/plain": [
              "<Figure size 640x480 with 1 Axes>"
            ],
            "image/png": "[encoded data removed]"
          },
          "metadata": {}
        }
      ]
    },
    {
      "cell_type": "code",
      "source": [
        "plt.plot(history.history['accuracy'])\n",
        "plt.plot(history.history['val_accuracy'])\n",
        "plt.title('Training and validation accuracy')\n",
        "plt.legend()\n",
        "plt.figure()"
      ],
      "metadata": {
        "colab": {
          "base_uri": "https://localhost:8080/",
          "height": 504
        },
        "id": "BkTz1H84pByr",
        "outputId": "1e83f392-9d17-49ae-d3db-789c4c45153d"
      },
      "execution_count": null,
      "outputs": [
        {
          "output_type": "stream",
          "name": "stderr",
          "text": [
            "WARNING:matplotlib.legend:No artists with labels found to put in legend.  Note that artists whose label start with an underscore are ignored when legend() is called with no argument.\n"
          ]
        },
        {
          "output_type": "execute_result",
          "data": {
            "text/plain": [
              "<Figure size 640x480 with 0 Axes>"
            ]
          },
          "metadata": {},
          "execution_count": 35
        },
        {
          "output_type": "display_data",
          "data": {
            "text/plain": [
              "<Figure size 640x480 with 1 Axes>"
            ],
            "image/png": "[encoded data removed]"
          },
          "metadata": {}
        },
        {
          "output_type": "display_data",
          "data": {
            "text/plain": [
              "<Figure size 640x480 with 0 Axes>"
            ]
          },
          "metadata": {}
        }
      ]
    },
    {
      "cell_type": "code",
      "source": [
        "pred = model.predict(X_test)\n",
        "pred = np.argmax(pred,axis=1)\n",
        "y_test_new = np.argmax(y_test,axis=1)"
      ],
      "metadata": {
        "colab": {
          "base_uri": "https://localhost:8080/"
        },
        "id": "2L6TLl-vpGSJ",
        "outputId": "56e21779-0f7a-481f-9939-0cffbc994e12"
      },
      "execution_count": null,
      "outputs": [
        {
          "output_type": "stream",
          "name": "stdout",
          "text": [
            "13/13 [==============================] - 10s 733ms/step\n"
          ]
        }
      ]
    },
    {
      "cell_type": "code",
      "source": [
        "print(classification_report(y_test_new,pred))"
      ],
      "metadata": {
        "colab": {
          "base_uri": "https://localhost:8080/"
        },
        "id": "KjGFcxwMVHbz",
        "outputId": "22dc0f69-fb93-4661-c863-a143805b9eac"
      },
      "execution_count": null,
      "outputs": [
        {
          "output_type": "stream",
          "name": "stdout",
          "text": [
            "              precision    recall  f1-score   support\n",
            "\n",
            "           0       0.91      0.20      0.33       100\n",
            "           1       0.81      0.87      0.84       115\n",
            "           2       0.57      0.95      0.72       105\n",
            "           3       0.89      0.89      0.89        74\n",
            "\n",
            "    accuracy                           0.73       394\n",
            "   macro avg       0.80      0.73      0.69       394\n",
            "weighted avg       0.79      0.73      0.69       394\n",
            "\n"
          ]
        }
      ]
    },
    {
      "cell_type": "code",
      "source": [
        "fig,ax=plt.subplots(1,1,figsize=(7,4))\n",
        "sns.heatmap(confusion_matrix(y_test_new,pred),ax=ax,xticklabels=labels,yticklabels=labels,annot=True,cmap=plt.cm.Reds)\n",
        "fig.text(s='MRI Confusion Matrix',size=18,fontweight='bold',\n",
        "            y=0.92,x=0.28,alpha=0.8)"
      ],
      "metadata": {
        "colab": {
          "base_uri": "https://localhost:8080/",
          "height": 542
        },
        "id": "O-XxatKKVRBI",
        "outputId": "409163ac-d8b4-4785-b9fd-d41d61a77219"
      },
      "execution_count": null,
      "outputs": [
        {
          "output_type": "execute_result",
          "data": {
            "text/plain": [
              "Text(0.28, 0.92, 'MRI Confusion Matrix')"
            ]
          },
          "metadata": {},
          "execution_count": 38
        },
        {
          "output_type": "display_data",
          "data": {
            "text/plain": [
              "<Figure size 700x400 with 2 Axes>"
            ],
            "image/png": "[encoded data removed]"
          },
          "metadata": {}
        }
      ]
    },
    {
      "cell_type": "markdown",
      "source": [
        "**SIX LAYER CUSTOM MODEL WITH L2 REGULARIZATION**"
      ],
      "metadata": {
        "id": "Ctb7g8sVxOIt"
      }
    },
    {
      "cell_type": "code",
      "source": [
        "from tensorflow.keras.models import Sequential\n",
        "from tensorflow.keras.layers import Conv2D, MaxPooling2D, BatchNormalization, Dropout, Flatten, Dense\n",
        "from tensorflow.keras.regularizers import l2\n",
        "\n",
        "model = Sequential()\n",
        "\n",
        "model.add(Conv2D(32, (3, 3), padding='same', input_shape=(image_size, image_size, 3), activation='relu', kernel_regularizer=l2(0.001)))\n",
        "model.add(BatchNormalization())\n",
        "\n",
        "model.add(Conv2D(32, (3, 3), activation='relu', kernel_regularizer=l2(0.001)))\n",
        "model.add(MaxPooling2D(pool_size=(2, 2)))\n",
        "model.add(BatchNormalization())\n",
        "model.add(Dropout(0.25))\n",
        "\n",
        "model.add(Conv2D(64, (3, 3), padding='same', activation='relu', kernel_regularizer=l2(0.001)))\n",
        "model.add(BatchNormalization())\n",
        "\n",
        "model.add(Conv2D(64, (3, 3), activation='relu', kernel_regularizer=l2(0.001)))\n",
        "model.add(MaxPooling2D(pool_size=(2, 2)))\n",
        "model.add(BatchNormalization())\n",
        "model.add(Dropout(0.25))\n",
        "\n",
        "model.add(Conv2D(128, (3, 3), padding='same', activation='relu', kernel_regularizer=l2(0.001)))\n",
        "model.add(BatchNormalization())\n",
        "\n",
        "model.add(Conv2D(128, (3, 3), activation='relu', kernel_regularizer=l2(0.001)))\n",
        "model.add(MaxPooling2D(pool_size=(2, 2)))\n",
        "model.add(BatchNormalization())\n",
        "model.add(Dropout(0.25))\n",
        "\n",
        "model.add(Flatten())\n",
        "model.add(Dense(256, activation='relu', kernel_regularizer=l2(0.001)))\n",
        "model.add(BatchNormalization())\n",
        "model.add(Dropout(0.5))\n",
        "\n",
        "model.add(Dense(4, activation='softmax'))\n",
        "\n",
        "model.compile(optimizer='adam', loss='categorical_crossentropy', metrics=['accuracy'])\n"
      ],
      "metadata": {
        "id": "3Xx_YRmUwcTp"
      },
      "execution_count": null,
      "outputs": []
    },
    {
      "cell_type": "markdown",
      "source": [],
      "metadata": {
        "id": "t8a80YigxMWC"
      }
    },
    {
      "cell_type": "code",
      "source": [
        "history = model.fit(X_train, y_train,validation_split=0.1, verbose=1, batch_size = 32, validation_data = (X_val, y_val),\n",
        "                     epochs = 40)"
      ],
      "metadata": {
        "colab": {
          "base_uri": "https://localhost:8080/"
        },
        "id": "_YQXwe9Dw3n3",
        "outputId": "6b250099-a837-414d-ae6e-6f6dbf880ab1"
      },
      "execution_count": null,
      "outputs": [
        {
          "output_type": "stream",
          "name": "stdout",
          "text": [
            "Epoch 1/40\n",
            "81/81 [==============================] - 1139s 14s/step - loss: 2.5669 - accuracy: 0.6969 - val_loss: 4.7113 - val_accuracy: 0.2962\n",
            "Epoch 2/40\n",
            "81/81 [==============================] - 1105s 14s/step - loss: 2.2415 - accuracy: 0.7766 - val_loss: 7.0107 - val_accuracy: 0.3415\n",
            "Epoch 3/40\n",
            "81/81 [==============================] - 1103s 14s/step - loss: 2.0348 - accuracy: 0.8177 - val_loss: 6.1566 - val_accuracy: 0.1533\n",
            "Epoch 4/40\n",
            "81/81 [==============================] - 1105s 14s/step - loss: 1.9367 - accuracy: 0.8238 - val_loss: 2.9404 - val_accuracy: 0.4948\n",
            "Epoch 5/40\n",
            "81/81 [==============================] - 1100s 14s/step - loss: 1.8364 - accuracy: 0.8513 - val_loss: 3.9264 - val_accuracy: 0.2509\n",
            "Epoch 6/40\n",
            "81/81 [==============================] - 1102s 14s/step - loss: 1.7770 - accuracy: 0.8513 - val_loss: 2.3587 - val_accuracy: 0.6098\n",
            "Epoch 7/40\n",
            "81/81 [==============================] - 1106s 14s/step - loss: 1.7997 - accuracy: 0.8556 - val_loss: 2.8156 - val_accuracy: 0.5645\n",
            "Epoch 8/40\n",
            "81/81 [==============================] - 1103s 14s/step - loss: 1.7692 - accuracy: 0.8591 - val_loss: 1.9928 - val_accuracy: 0.7944\n",
            "Epoch 9/40\n",
            "81/81 [==============================] - 1104s 14s/step - loss: 1.7623 - accuracy: 0.8664 - val_loss: 2.0553 - val_accuracy: 0.7317\n",
            "Epoch 10/40\n",
            "81/81 [==============================] - 1109s 14s/step - loss: 1.5786 - accuracy: 0.9021 - val_loss: 1.6194 - val_accuracy: 0.8223\n",
            "Epoch 11/40\n",
            "81/81 [==============================] - 1106s 14s/step - loss: 1.3998 - accuracy: 0.9237 - val_loss: 1.4426 - val_accuracy: 0.8885\n",
            "Epoch 12/40\n",
            "81/81 [==============================] - 1106s 14s/step - loss: 1.3290 - accuracy: 0.9187 - val_loss: 1.4912 - val_accuracy: 0.8711\n",
            "Epoch 13/40\n",
            "81/81 [==============================] - 1102s 14s/step - loss: 1.5117 - accuracy: 0.9059 - val_loss: 1.7438 - val_accuracy: 0.8049\n",
            "Epoch 14/40\n",
            "81/81 [==============================] - 1099s 14s/step - loss: 1.5006 - accuracy: 0.9322 - val_loss: 1.8223 - val_accuracy: 0.7875\n",
            "Epoch 15/40\n",
            "81/81 [==============================] - 1145s 14s/step - loss: 1.4269 - accuracy: 0.9384 - val_loss: 1.4806 - val_accuracy: 0.8990\n",
            "Epoch 16/40\n",
            "81/81 [==============================] - 1142s 14s/step - loss: 1.3762 - accuracy: 0.9284 - val_loss: 1.6239 - val_accuracy: 0.8746\n",
            "Epoch 17/40\n",
            "81/81 [==============================] - 1106s 14s/step - loss: 1.4474 - accuracy: 0.9419 - val_loss: 1.4681 - val_accuracy: 0.9233\n",
            "Epoch 18/40\n",
            "81/81 [==============================] - 1105s 14s/step - loss: 1.4386 - accuracy: 0.9361 - val_loss: 1.7329 - val_accuracy: 0.8223\n",
            "Epoch 19/40\n",
            "81/81 [==============================] - 1106s 14s/step - loss: 1.4087 - accuracy: 0.9439 - val_loss: 1.4288 - val_accuracy: 0.9338\n",
            "Epoch 20/40\n",
            "81/81 [==============================] - 1106s 14s/step - loss: 1.4074 - accuracy: 0.9446 - val_loss: 2.2619 - val_accuracy: 0.7526\n",
            "Epoch 21/40\n",
            "33/81 [===========>..................] - ETA: 10:36 - loss: 1.4187 - accuracy: 0.9498"
          ]
        }
      ]
    },
    {
      "cell_type": "code",
      "execution_count": null,
      "metadata": {
        "id": "Fm7ONtwt-zKD"
      },
      "outputs": [],
      "source": [
        "from tensorflow.keras.models import Sequential\n",
        "from tensorflow.keras.layers import Conv2D, MaxPooling2D, Flatten, Dense, Dropout, BatchNormalization\n",
        "from tensorflow.keras.regularizers import l2\n",
        "\n",
        "model = Sequential()\n",
        "\n",
        "model.add(Conv2D(16, (3, 3), padding='same', input_shape=(image_size, image_size, 3), activation='relu', kernel_regularizer=l2(0.001))) \n",
        "model.add(BatchNormalization())\n",
        "\n",
        "model.add(Conv2D(16, (3, 3), activation='relu', kernel_regularizer=l2(0.001))) \n",
        "model.add(MaxPooling2D(pool_size=(2, 2))) \n",
        "model.add(BatchNormalization())\n",
        "model.add(Dropout(0.25))\n",
        "\n",
        "model.add(Conv2D(8, (3, 3), activation='relu', kernel_regularizer=l2(0.001)))\n",
        "model.add(BatchNormalization()) \n",
        "\n",
        "model.add(Conv2D(4, (3, 3), activation='relu', kernel_regularizer=l2(0.001)))\n",
        "model.add(MaxPooling2D(pool_size=(2, 2))) \n",
        "model.add(BatchNormalization())\n",
        "model.add(Dropout(0.25)) \n",
        "\n",
        "model.add(Flatten()) \n",
        "model.add(Dropout(0.5)) \n",
        "model.add(Dense(8, activation='relu', kernel_regularizer=l2(0.001))) \n",
        "model.add(BatchNormalization())\n",
        "model.add(Dense(4, activation='softmax'))\n",
        "\n",
        "model.compile(optimizer='adam', loss='categorical_crossentropy', metrics=['accuracy'])"
      ]
    },
    {
      "cell_type": "code",
      "execution_count": null,
      "metadata": {
        "id": "r5u_-lMPDGnz"
      },
      "outputs": [],
      "source": [
        "num_classes = 4"
      ]
    },
    {
      "cell_type": "code",
      "execution_count": null,
      "metadata": {
        "colab": {
          "base_uri": "https://localhost:8080/"
        },
        "id": "q5jMqnGXj30i",
        "outputId": "9d9e2e8d-d730-472c-de82-2d701b5fd5bb"
      },
      "outputs": [
        {
          "name": "stdout",
          "output_type": "stream",
          "text": [
            "Model: \"sequential\"\n",
            "_________________________________________________________________\n",
            " Layer (type)                Output Shape              Param #   \n",
            "=================================================================\n",
            " conv2d (Conv2D)             (None, 224, 224, 16)      448       \n",
            "                                                                 \n",
            " batch_normalization (BatchN  (None, 224, 224, 16)     64        \n",
            " ormalization)                                                   \n",
            "                                                                 \n",
            " conv2d_1 (Conv2D)           (None, 222, 222, 16)      2320      \n",
            "                                                                 \n",
            " max_pooling2d (MaxPooling2D  (None, 111, 111, 16)     0         \n",
            " )                                                               \n",
            "                                                                 \n",
            " batch_normalization_1 (Batc  (None, 111, 111, 16)     64        \n",
            " hNormalization)                                                 \n",
            "                                                                 \n",
            " dropout (Dropout)           (None, 111, 111, 16)      0         \n",
            "                                                                 \n",
            " conv2d_2 (Conv2D)           (None, 109, 109, 8)       1160      \n",
            "                                                                 \n",
            " batch_normalization_2 (Batc  (None, 109, 109, 8)      32        \n",
            " hNormalization)                                                 \n",
            "                                                                 \n",
            " conv2d_3 (Conv2D)           (None, 107, 107, 4)       292       \n",
            "                                                                 \n",
            " max_pooling2d_1 (MaxPooling  (None, 53, 53, 4)        0         \n",
            " 2D)                                                             \n",
            "                                                                 \n",
            " batch_normalization_3 (Batc  (None, 53, 53, 4)        16        \n",
            " hNormalization)                                                 \n",
            "                                                                 \n",
            " dropout_1 (Dropout)         (None, 53, 53, 4)         0         \n",
            "                                                                 \n",
            " flatten (Flatten)           (None, 11236)             0         \n",
            "                                                                 \n",
            " dropout_2 (Dropout)         (None, 11236)             0         \n",
            "                                                                 \n",
            " dense (Dense)               (None, 8)                 89896     \n",
            "                                                                 \n",
            " batch_normalization_4 (Batc  (None, 8)                32        \n",
            " hNormalization)                                                 \n",
            "                                                                 \n",
            " dense_1 (Dense)             (None, 4)                 36        \n",
            "                                                                 \n",
            "=================================================================\n",
            "Total params: 94,360\n",
            "Trainable params: 94,256\n",
            "Non-trainable params: 104\n",
            "_________________________________________________________________\n"
          ]
        }
      ],
      "source": [
        "model.summary()"
      ]
    },
    {
      "cell_type": "code",
      "execution_count": null,
      "metadata": {
        "id": "u5Nofgcp-Qj5"
      },
      "outputs": [],
      "source": [
        "model.compile(optimizer = 'adam',\n",
        "               loss = 'categorical_crossentropy',\n",
        "               metrics = ['accuracy'])"
      ]
    },
    {
      "cell_type": "markdown",
      "source": [
        "**SIX LAYER CUSTOM MODEL WITH 93 % VALIDATION ACCURACY**"
      ],
      "metadata": {
        "id": "q7nDvvrEwH1t"
      }
    },
    {
      "cell_type": "code",
      "execution_count": null,
      "metadata": {
        "colab": {
          "base_uri": "https://localhost:8080/"
        },
        "id": "ojrAdQOozuIS",
        "outputId": "0d7c2a3f-a21a-47db-f051-481039e2368b"
      },
      "outputs": [
        {
          "name": "stdout",
          "output_type": "stream",
          "text": [
            "Epoch 1/20\n",
            "81/81 [==============================] - 295s 4s/step - loss: 1.0646 - accuracy: 0.6016 - val_loss: 1.7312 - val_accuracy: 0.2195\n",
            "Epoch 2/20\n",
            "81/81 [==============================] - 281s 3s/step - loss: 0.7709 - accuracy: 0.7507 - val_loss: 1.5819 - val_accuracy: 0.4042\n",
            "Epoch 3/20\n",
            "81/81 [==============================] - 300s 4s/step - loss: 0.6519 - accuracy: 0.8045 - val_loss: 1.5165 - val_accuracy: 0.2787\n",
            "Epoch 4/20\n",
            "81/81 [==============================] - 293s 4s/step - loss: 0.5485 - accuracy: 0.8401 - val_loss: 1.5487 - val_accuracy: 0.3624\n",
            "Epoch 5/20\n",
            "81/81 [==============================] - 289s 4s/step - loss: 0.4681 - accuracy: 0.8711 - val_loss: 1.5186 - val_accuracy: 0.3659\n",
            "Epoch 6/20\n",
            "81/81 [==============================] - 288s 4s/step - loss: 0.4088 - accuracy: 0.8974 - val_loss: 1.5320 - val_accuracy: 0.5679\n",
            "Epoch 7/20\n",
            "81/81 [==============================] - 290s 4s/step - loss: 0.3536 - accuracy: 0.9094 - val_loss: 0.4935 - val_accuracy: 0.8780\n",
            "Epoch 8/20\n",
            "81/81 [==============================] - 288s 4s/step - loss: 0.3289 - accuracy: 0.9183 - val_loss: 0.7582 - val_accuracy: 0.7735\n",
            "Epoch 9/20\n",
            "81/81 [==============================] - 289s 4s/step - loss: 0.3099 - accuracy: 0.9253 - val_loss: 0.3464 - val_accuracy: 0.8990\n",
            "Epoch 10/20\n",
            "81/81 [==============================] - 282s 3s/step - loss: 0.2810 - accuracy: 0.9381 - val_loss: 0.3081 - val_accuracy: 0.9233\n",
            "Epoch 11/20\n",
            "81/81 [==============================] - 278s 3s/step - loss: 0.2709 - accuracy: 0.9377 - val_loss: 0.3055 - val_accuracy: 0.9164\n",
            "Epoch 12/20\n",
            "81/81 [==============================] - 280s 3s/step - loss: 0.2515 - accuracy: 0.9466 - val_loss: 0.4196 - val_accuracy: 0.8920\n",
            "Epoch 13/20\n",
            "81/81 [==============================] - 279s 3s/step - loss: 0.2330 - accuracy: 0.9532 - val_loss: 0.3405 - val_accuracy: 0.9199\n",
            "Epoch 14/20\n",
            "81/81 [==============================] - 291s 4s/step - loss: 0.2172 - accuracy: 0.9547 - val_loss: 0.2812 - val_accuracy: 0.9233\n",
            "Epoch 15/20\n",
            "81/81 [==============================] - 277s 3s/step - loss: 0.2278 - accuracy: 0.9551 - val_loss: 0.5083 - val_accuracy: 0.8188\n",
            "Epoch 16/20\n",
            "81/81 [==============================] - 275s 3s/step - loss: 0.2082 - accuracy: 0.9628 - val_loss: 0.2755 - val_accuracy: 0.9443\n",
            "Epoch 17/20\n",
            "81/81 [==============================] - 278s 3s/step - loss: 0.2085 - accuracy: 0.9601 - val_loss: 0.2990 - val_accuracy: 0.9303\n",
            "Epoch 18/20\n",
            "81/81 [==============================] - 275s 3s/step - loss: 0.1949 - accuracy: 0.9698 - val_loss: 0.3235 - val_accuracy: 0.9199\n",
            "Epoch 19/20\n",
            "81/81 [==============================] - 278s 3s/step - loss: 0.1988 - accuracy: 0.9640 - val_loss: 0.3273 - val_accuracy: 0.9164\n",
            "Epoch 20/20\n",
            "81/81 [==============================] - 283s 3s/step - loss: 0.1880 - accuracy: 0.9659 - val_loss: 0.2895 - val_accuracy: 0.9338\n"
          ]
        }
      ],
      "source": [
        "history = model.fit(X_train, y_train,validation_split=0.1, verbose=1, batch_size = 32, validation_data = (X_val, y_val),\n",
        "                     epochs = 20)"
      ]
    },
    {
      "cell_type": "code",
      "execution_count": null,
      "metadata": {
        "colab": {
          "base_uri": "https://localhost:8080/",
          "height": 472
        },
        "id": "_5pAiEfQIfxw",
        "outputId": "0aad2480-4aa5-4696-f495-4692e2bd5c2f"
      },
      "outputs": [
        {
          "data": {
            "image/png": "[encoded data removed]",
            "text/plain": [
              "<Figure size 640x480 with 1 Axes>"
            ]
          },
          "metadata": {},
          "output_type": "display_data"
        }
      ],
      "source": [
        "plt.plot(history.history['loss'])\n",
        "plt.plot(history.history['val_loss'])\n",
        "plt.title('model loss')\n",
        "plt.ylabel('loss')\n",
        "plt.xlabel('epoch')\n",
        "plt.legend(['train', 'test'], loc='upper left')\n",
        "plt.show()"
      ]
    },
    {
      "cell_type": "code",
      "execution_count": null,
      "metadata": {
        "colab": {
          "base_uri": "https://localhost:8080/",
          "height": 507
        },
        "id": "9nNeJorHIjz1",
        "outputId": "753a285b-e9eb-40f3-b84b-58f829be86ad"
      },
      "outputs": [
        {
          "name": "stderr",
          "output_type": "stream",
          "text": [
            "WARNING:matplotlib.legend:No artists with labels found to put in legend.  Note that artists whose label start with an underscore are ignored when legend() is called with no argument.\n"
          ]
        },
        {
          "data": {
            "text/plain": [
              "<Figure size 640x480 with 0 Axes>"
            ]
          },
          "execution_count": 26,
          "metadata": {},
          "output_type": "execute_result"
        },
        {
          "data": {
            "image/png": "[encoded data removed]",
            "text/plain": [
              "<Figure size 640x480 with 1 Axes>"
            ]
          },
          "metadata": {},
          "output_type": "display_data"
        },
        {
          "data": {
            "text/plain": [
              "<Figure size 640x480 with 0 Axes>"
            ]
          },
          "metadata": {},
          "output_type": "display_data"
        }
      ],
      "source": [
        "\n",
        "plt.plot(history.history['accuracy'])\n",
        "plt.plot(history.history['val_accuracy'])\n",
        "plt.title('Training and validation accuracy')\n",
        "plt.legend()\n",
        "plt.figure()"
      ]
    },
    {
      "cell_type": "code",
      "execution_count": null,
      "metadata": {
        "colab": {
          "base_uri": "https://localhost:8080/"
        },
        "id": "cxnrHzylIm6g",
        "outputId": "0e85fb84-230a-4d11-f5d9-faa339c50390"
      },
      "outputs": [
        {
          "name": "stdout",
          "output_type": "stream",
          "text": [
            "13/13 [==============================] - 11s 819ms/step\n"
          ]
        }
      ],
      "source": [
        "pred = model.predict(X_test)\n",
        "pred = np.argmax(pred,axis=1)\n",
        "y_test_new = np.argmax(y_test,axis=1)"
      ]
    },
    {
      "cell_type": "code",
      "execution_count": null,
      "metadata": {
        "colab": {
          "base_uri": "https://localhost:8080/"
        },
        "id": "W4BjsjR2IqxJ",
        "outputId": "ea5f05ac-00b0-42b4-9edd-ec2e9b69894f"
      },
      "outputs": [
        {
          "name": "stdout",
          "output_type": "stream",
          "text": [
            "81/81 [==============================] - 69s 841ms/step - loss: 0.1252 - accuracy: 0.9942\n"
          ]
        },
        {
          "data": {
            "text/plain": [
              "[0.12523852288722992, 0.9941927790641785]"
            ]
          },
          "execution_count": 28,
          "metadata": {},
          "output_type": "execute_result"
        }
      ],
      "source": [
        "model.evaluate(X_train, y_train)"
      ]
    },
    {
      "cell_type": "code",
      "execution_count": null,
      "metadata": {
        "id": "3JBfIzdwMAK1"
      },
      "outputs": [],
      "source": []
    },
    {
      "cell_type": "code",
      "execution_count": null,
      "metadata": {
        "colab": {
          "base_uri": "https://localhost:8080/"
        },
        "id": "5LYGFDyIItVN",
        "outputId": "a78d9acd-8b79-4108-ad94-fa77fcf9a403"
      },
      "outputs": [
        {
          "name": "stdout",
          "output_type": "stream",
          "text": [
            "              precision    recall  f1-score   support\n",
            "\n",
            "           0       1.00      0.19      0.32       100\n",
            "           1       0.82      0.85      0.84       115\n",
            "           2       0.53      1.00      0.69       105\n",
            "           3       0.93      0.70      0.80        74\n",
            "\n",
            "    accuracy                           0.70       394\n",
            "   macro avg       0.82      0.69      0.66       394\n",
            "weighted avg       0.81      0.70      0.66       394\n",
            "\n"
          ]
        }
      ],
      "source": [
        "print(classification_report(y_test_new,pred))"
      ]
    },
    {
      "cell_type": "code",
      "execution_count": null,
      "metadata": {
        "colab": {
          "base_uri": "https://localhost:8080/",
          "height": 543
        },
        "id": "eAl3NsCVIvco",
        "outputId": "27eba960-de96-48d9-a7e9-8c0eda05ec62"
      },
      "outputs": [
        {
          "data": {
            "text/plain": [
              "Text(0.28, 0.92, 'MRI Confusion Matrix')"
            ]
          },
          "execution_count": 30,
          "metadata": {},
          "output_type": "execute_result"
        },
        {
          "data": {
            "image/png": "[encoded data removed]",
            "text/plain": [
              "<Figure size 700x400 with 2 Axes>"
            ]
          },
          "metadata": {},
          "output_type": "display_data"
        }
      ],
      "source": [
        "fig,ax=plt.subplots(1,1,figsize=(7,4))\n",
        "sns.heatmap(confusion_matrix(y_test_new,pred),ax=ax,xticklabels=labels,yticklabels=labels,annot=True,cmap=plt.cm.Reds)\n",
        "fig.text(s='MRI Confusion Matrix',size=18,fontweight='bold',\n",
        "            y=0.92,x=0.28,alpha=0.8)"
      ]
    },
    {
      "cell_type": "markdown",
      "metadata": {
        "id": "XuT7eDDcgf9O"
      },
      "source": [
        "**SECOND MODEL WITH HYPERPARAMETER TUNING WITH 50 EPOCHS RUNNING AND VALIDATION SPLIT 0.2 WITH VALIDATION ACCURACY 84 %**"
      ]
    },
    {
      "cell_type": "code",
      "execution_count": null,
      "metadata": {
        "id": "qSH7Hx6MgjUP"
      },
      "outputs": [],
      "source": [
        "from tensorflow.keras.models import Sequential\n",
        "from tensorflow.keras.layers import Conv2D, MaxPooling2D, Flatten, Dense, Dropout, BatchNormalization\n",
        "from tensorflow.keras.regularizers import l2\n",
        "from tensorflow.keras.optimizers import Adam\n",
        "from tensorflow.keras.callbacks import EarlyStopping, ModelCheckpoint\n",
        "\n",
        "# Define hyperparameters\n",
        "image_size = 224\n",
        "learning_rate = 0.01\n",
        "batch_size = 32\n",
        "epochs = 50\n",
        "validation_split = 0.2\n",
        "\n",
        "# Define the model\n",
        "model = Sequential()\n",
        "\n",
        "model.add(Conv2D(16, (3, 3), padding='same', input_shape=(image_size, image_size, 3), activation='relu', kernel_regularizer=l2(0.001))) \n",
        "model.add(BatchNormalization())\n",
        "\n",
        "model.add(Conv2D(16, (3, 3), activation='relu', kernel_regularizer=l2(0.001))) \n",
        "model.add(MaxPooling2D(pool_size=(2, 2))) \n",
        "model.add(BatchNormalization())\n",
        "model.add(Dropout(0.25))\n",
        "\n",
        "model.add(Conv2D(8, (3, 3), activation='relu', kernel_regularizer=l2(0.001)))\n",
        "model.add(BatchNormalization()) \n",
        "\n",
        "model.add(Conv2D(4, (3, 3), activation='relu', kernel_regularizer=l2(0.001)))\n",
        "model.add(MaxPooling2D(pool_size=(2, 2))) \n",
        "model.add(BatchNormalization())\n",
        "model.add(Dropout(0.25)) \n",
        "\n",
        "model.add(Flatten()) \n",
        "model.add(Dropout(0.5)) \n",
        "model.add(Dense(8, activation='relu', kernel_regularizer=l2(0.001))) \n",
        "model.add(BatchNormalization())\n",
        "model.add(Dense(4, activation='softmax'))\n",
        "\n",
        "# Define the optimizer\n",
        "optimizer = Adam(learning_rate=learning_rate)\n",
        "\n",
        "# Compile the model\n",
        "model.compile(optimizer=optimizer, loss='categorical_crossentropy', metrics=['accuracy'])\n",
        "\n",
        "# Define callbacks for early stopping and model checkpointing\n",
        "early_stopping = EarlyStopping(monitor='val_loss', patience=5, verbose=1, mode='min', restore_best_weights=True)\n",
        "checkpoint = ModelCheckpoint('model.h5', monitor='val_loss', save_best_only=True, verbose=1)\n",
        "\n",
        "\n"
      ]
    },
    {
      "cell_type": "code",
      "execution_count": null,
      "metadata": {
        "colab": {
          "background_save": true,
          "base_uri": "https://localhost:8080/"
        },
        "id": "V8D9B4dShvDY",
        "outputId": "912aa2c5-1f03-42ab-c70e-177484261f2b"
      },
      "outputs": [
        {
          "name": "stdout",
          "output_type": "stream",
          "text": [
            "Epoch 1/50\n",
            "65/65 [==============================] - ETA: 0s - loss: 1.2348 - accuracy: 0.6200\n",
            "Epoch 1: val_loss improved from inf to 1.37204, saving model to model.h5\n",
            "65/65 [==============================] - 261s 4s/step - loss: 1.2348 - accuracy: 0.6200 - val_loss: 1.3720 - val_accuracy: 0.6054\n",
            "Epoch 2/50\n",
            "65/65 [==============================] - ETA: 0s - loss: 0.9244 - accuracy: 0.7599\n",
            "Epoch 2: val_loss did not improve from 1.37204\n",
            "65/65 [==============================] - 245s 4s/step - loss: 0.9244 - accuracy: 0.7599 - val_loss: 1.6474 - val_accuracy: 0.5261\n",
            "Epoch 3/50\n",
            "65/65 [==============================] - ETA: 0s - loss: 0.8257 - accuracy: 0.8074\n",
            "Epoch 3: val_loss did not improve from 1.37204\n",
            "65/65 [==============================] - 237s 4s/step - loss: 0.8257 - accuracy: 0.8074 - val_loss: 2.2342 - val_accuracy: 0.4352\n",
            "Epoch 4/50\n",
            "65/65 [==============================] - ETA: 0s - loss: 0.8682 - accuracy: 0.8369\n",
            "Epoch 4: val_loss improved from 1.37204 to 1.12096, saving model to model.h5\n",
            "65/65 [==============================] - 237s 4s/step - loss: 0.8682 - accuracy: 0.8369 - val_loss: 1.1210 - val_accuracy: 0.7389\n",
            "Epoch 5/50\n",
            "65/65 [==============================] - ETA: 0s - loss: 0.8167 - accuracy: 0.8538\n",
            "Epoch 5: val_loss did not improve from 1.12096\n",
            "65/65 [==============================] - 242s 4s/step - loss: 0.8167 - accuracy: 0.8538 - val_loss: 1.5085 - val_accuracy: 0.6441\n",
            "Epoch 6/50\n",
            "65/65 [==============================] - ETA: 0s - loss: 0.8226 - accuracy: 0.8659\n",
            "Epoch 6: val_loss improved from 1.12096 to 1.02006, saving model to model.h5\n",
            "65/65 [==============================] - 239s 4s/step - loss: 0.8226 - accuracy: 0.8659 - val_loss: 1.0201 - val_accuracy: 0.7892\n",
            "Epoch 7/50\n",
            "65/65 [==============================] - ETA: 0s - loss: 0.8528 - accuracy: 0.8553\n",
            "Epoch 7: val_loss did not improve from 1.02006\n",
            "65/65 [==============================] - 241s 4s/step - loss: 0.8528 - accuracy: 0.8553 - val_loss: 1.0917 - val_accuracy: 0.7756\n",
            "Epoch 8/50\n",
            "65/65 [==============================] - ETA: 0s - loss: 0.8198 - accuracy: 0.8775\n",
            "Epoch 8: val_loss improved from 1.02006 to 1.00075, saving model to model.h5\n",
            "65/65 [==============================] - 233s 4s/step - loss: 0.8198 - accuracy: 0.8775 - val_loss: 1.0008 - val_accuracy: 0.8201\n",
            "Epoch 9/50\n",
            "65/65 [==============================] - ETA: 0s - loss: 0.8448 - accuracy: 0.8688\n",
            "Epoch 9: val_loss did not improve from 1.00075\n",
            "65/65 [==============================] - 220s 3s/step - loss: 0.8448 - accuracy: 0.8688 - val_loss: 1.0171 - val_accuracy: 0.8395\n",
            "Epoch 10/50\n",
            "65/65 [==============================] - ETA: 0s - loss: 0.8773 - accuracy: 0.8674\n",
            "Epoch 10: val_loss improved from 1.00075 to 0.96180, saving model to model.h5\n",
            "65/65 [==============================] - 225s 3s/step - loss: 0.8773 - accuracy: 0.8674 - val_loss: 0.9618 - val_accuracy: 0.8085\n",
            "Epoch 11/50\n",
            "65/65 [==============================] - ETA: 0s - loss: 0.8602 - accuracy: 0.8722\n",
            "Epoch 11: val_loss did not improve from 0.96180\n",
            "65/65 [==============================] - 232s 4s/step - loss: 0.8602 - accuracy: 0.8722 - val_loss: 1.3939 - val_accuracy: 0.7099\n",
            "Epoch 12/50\n",
            "65/65 [==============================] - ETA: 0s - loss: 0.8599 - accuracy: 0.8742\n",
            "Epoch 12: val_loss did not improve from 0.96180\n",
            "65/65 [==============================] - 231s 4s/step - loss: 0.8599 - accuracy: 0.8742 - val_loss: 1.1827 - val_accuracy: 0.7505\n",
            "Epoch 13/50\n",
            "65/65 [==============================] - ETA: 0s - loss: 0.8511 - accuracy: 0.8746\n",
            "Epoch 13: val_loss did not improve from 0.96180\n",
            "65/65 [==============================] - 239s 4s/step - loss: 0.8511 - accuracy: 0.8746 - val_loss: 1.1780 - val_accuracy: 0.7137\n",
            "Epoch 14/50\n",
            "65/65 [==============================] - ETA: 0s - loss: 0.8663 - accuracy: 0.8785\n",
            "Epoch 14: val_loss did not improve from 0.96180\n",
            "65/65 [==============================] - 229s 4s/step - loss: 0.8663 - accuracy: 0.8785 - val_loss: 1.0100 - val_accuracy: 0.8201\n",
            "Epoch 15/50\n",
            "65/65 [==============================] - ETA: 0s - loss: 0.8282 - accuracy: 0.8935\n",
            "Epoch 15: val_loss improved from 0.96180 to 0.96172, saving model to model.h5\n",
            "65/65 [==============================] - 229s 4s/step - loss: 0.8282 - accuracy: 0.8935 - val_loss: 0.9617 - val_accuracy: 0.8279\n",
            "Epoch 16/50\n",
            "65/65 [==============================] - ETA: 0s - loss: 0.8915 - accuracy: 0.8771\n",
            "Epoch 16: val_loss did not improve from 0.96172\n",
            "65/65 [==============================] - 229s 4s/step - loss: 0.8915 - accuracy: 0.8771 - val_loss: 0.9670 - val_accuracy: 0.8375\n",
            "Epoch 17/50\n",
            "65/65 [==============================] - ETA: 0s - loss: 0.8551 - accuracy: 0.8809\n",
            "Epoch 17: val_loss did not improve from 0.96172\n",
            "65/65 [==============================] - 230s 4s/step - loss: 0.8551 - accuracy: 0.8809 - val_loss: 1.0245 - val_accuracy: 0.8414\n",
            "Epoch 18/50\n",
            "65/65 [==============================] - ETA: 0s - loss: 0.8224 - accuracy: 0.8892\n",
            "Epoch 18: val_loss did not improve from 0.96172\n",
            "65/65 [==============================] - 223s 3s/step - loss: 0.8224 - accuracy: 0.8892 - val_loss: 1.2229 - val_accuracy: 0.7679\n",
            "Epoch 19/50\n",
            "65/65 [==============================] - ETA: 0s - loss: 0.8525 - accuracy: 0.8853\n",
            "Epoch 19: val_loss did not improve from 0.96172\n",
            "65/65 [==============================] - 230s 4s/step - loss: 0.8525 - accuracy: 0.8853 - val_loss: 1.1819 - val_accuracy: 0.7698\n",
            "Epoch 20/50\n",
            "65/65 [==============================] - ETA: 0s - loss: 0.8633 - accuracy: 0.8858\n",
            "Epoch 20: val_loss improved from 0.96172 to 0.95452, saving model to model.h5\n",
            "65/65 [==============================] - 229s 4s/step - loss: 0.8633 - accuracy: 0.8858 - val_loss: 0.9545 - val_accuracy: 0.8511\n",
            "Epoch 21/50\n",
            "65/65 [==============================] - ETA: 0s - loss: 0.7894 - accuracy: 0.9013\n",
            "Epoch 21: val_loss did not improve from 0.95452\n",
            "65/65 [==============================] - 230s 4s/step - loss: 0.7894 - accuracy: 0.9013 - val_loss: 1.0872 - val_accuracy: 0.8143\n",
            "Epoch 22/50\n",
            "65/65 [==============================] - ETA: 0s - loss: 0.8974 - accuracy: 0.8804\n",
            "Epoch 22: val_loss did not improve from 0.95452\n",
            "65/65 [==============================] - 232s 4s/step - loss: 0.8974 - accuracy: 0.8804 - val_loss: 1.7020 - val_accuracy: 0.5145\n",
            "Epoch 23/50\n",
            "65/65 [==============================] - ETA: 0s - loss: 0.8572 - accuracy: 0.8974\n",
            "Epoch 23: val_loss did not improve from 0.95452\n",
            "65/65 [==============================] - 230s 4s/step - loss: 0.8572 - accuracy: 0.8974 - val_loss: 1.2013 - val_accuracy: 0.7988\n",
            "Epoch 24/50\n",
            "65/65 [==============================] - ETA: 0s - loss: 0.8419 - accuracy: 0.8911\n",
            "Epoch 24: val_loss did not improve from 0.95452\n",
            "65/65 [==============================] - 225s 3s/step - loss: 0.8419 - accuracy: 0.8911 - val_loss: 1.3302 - val_accuracy: 0.7021\n",
            "Epoch 25/50\n",
            "65/65 [==============================] - ETA: 0s - loss: 0.8352 - accuracy: 0.8882Restoring model weights from the end of the best epoch: 20.\n",
            "\n",
            "Epoch 25: val_loss did not improve from 0.95452\n",
            "65/65 [==============================] - 228s 4s/step - loss: 0.8352 - accuracy: 0.8882 - val_loss: 1.2600 - val_accuracy: 0.7466\n",
            "Epoch 25: early stopping\n"
          ]
        }
      ],
      "source": [
        "# Train the model\n",
        "history = model.fit(X_train, y_train, batch_size=batch_size, epochs=epochs, validation_split=validation_split, callbacks=[early_stopping, checkpoint])\n"
      ]
    },
    {
      "cell_type": "code",
      "execution_count": null,
      "metadata": {
        "colab": {
          "background_save": true
        },
        "id": "5ESshEvFhrEe",
        "outputId": "57253d20-7694-4771-d11c-f141c677cb4b"
      },
      "outputs": [
        {
          "name": "stdout",
          "output_type": "stream",
          "text": [
            "13/13 [==============================] - 10s 799ms/step - loss: 2.5168 - accuracy: 0.5051\n",
            "Test loss: 2.516782283782959\n",
            "Test accuracy: 0.5050761699676514\n"
          ]
        }
      ],
      "source": [
        "# Evaluate the model on the test set\n",
        "test_loss, test_acc = model.evaluate(X_test, y_test)\n",
        "print('Test loss:', test_loss)\n",
        "print('Test accuracy:', test_acc)"
      ]
    },
    {
      "cell_type": "code",
      "execution_count": null,
      "metadata": {
        "id": "MNu3A8JwLDDx"
      },
      "outputs": [],
      "source": [
        "model.evaluate(X_train, y_train)"
      ]
    },
    {
      "cell_type": "code",
      "execution_count": null,
      "metadata": {
        "id": "mM5LFIicIfgC"
      },
      "outputs": [],
      "source": [
        "plt.plot(history.history['loss'])\n",
        "plt.plot(history.history['val_loss'])\n",
        "plt.title('model loss')\n",
        "plt.ylabel('loss')\n",
        "plt.xlabel('epoch')\n",
        "plt.legend(['train', 'test'], loc='upper left')\n",
        "plt.show()\n",
        "plt.plot(history.history['accuracy'])\n",
        "plt.plot(history.history['val_accuracy'])\n",
        "plt.title('Training and validation accuracy')\n",
        "plt.legend()\n",
        "plt.figure()"
      ]
    },
    {
      "cell_type": "code",
      "execution_count": null,
      "metadata": {
        "colab": {
          "background_save": true
        },
        "id": "bL2qB_w4MNlE"
      },
      "outputs": [],
      "source": [
        "fig,ax=plt.subplots(1,1,figsize=(7,4))\n",
        "sns.heatmap(confusion_matrix(y_test_new,pred),ax=ax,xticklabels=labels,yticklabels=labels,annot=True,cmap=plt.cm.Reds)\n",
        "fig.text(s='MRI Confusion Matrix',size=18,fontweight='bold',\n",
        "            y=0.92,x=0.28,alpha=0.8)"
      ]
    },
    {
      "cell_type": "markdown",
      "source": [
        "**3rd MODEL WITH VALIDATION SPLIT 0.1 AND EPOCHS 30**\n"
      ],
      "metadata": {
        "id": "q_nM_SzAb4S7"
      }
    },
    {
      "cell_type": "code",
      "source": [
        "from tensorflow.keras.models import Sequential\n",
        "from tensorflow.keras.layers import Conv2D, MaxPooling2D, Flatten, Dense, Dropout, BatchNormalization\n",
        "from tensorflow.keras.regularizers import l2\n",
        "from tensorflow.keras.optimizers import Adam\n",
        "from tensorflow.keras.callbacks import EarlyStopping, ModelCheckpoint\n",
        "\n",
        "# Define hyperparameters\n",
        "image_size = 224\n",
        "learning_rate = 0.001\n",
        "batch_size = 32\n",
        "epochs = 30\n",
        "validation_split = 0.1\n",
        "\n",
        "# Define the model\n",
        "model = Sequential()\n",
        "\n",
        "model.add(Conv2D(16, (3, 3), padding='same', input_shape=(image_size, image_size, 3), activation='relu', kernel_regularizer=l2(0.001))) \n",
        "model.add(BatchNormalization())\n",
        "\n",
        "model.add(Conv2D(16, (3, 3), activation='relu', kernel_regularizer=l2(0.001))) \n",
        "model.add(MaxPooling2D(pool_size=(2, 2))) \n",
        "model.add(BatchNormalization())\n",
        "model.add(Dropout(0.25))\n",
        "\n",
        "model.add(Conv2D(8, (3, 3), activation='relu', kernel_regularizer=l2(0.001)))\n",
        "model.add(BatchNormalization()) \n",
        "\n",
        "model.add(Conv2D(4, (3, 3), activation='relu', kernel_regularizer=l2(0.001)))\n",
        "model.add(MaxPooling2D(pool_size=(2, 2))) \n",
        "model.add(BatchNormalization())\n",
        "model.add(Dropout(0.25)) \n",
        "\n",
        "model.add(Flatten()) \n",
        "model.add(Dropout(0.5)) \n",
        "model.add(Dense(8, activation='relu', kernel_regularizer=l2(0.001))) \n",
        "model.add(BatchNormalization())\n",
        "model.add(Dense(4, activation='softmax'))\n",
        "\n",
        "# Define the optimizer\n",
        "optimizer = Adam(learning_rate=learning_rate)\n",
        "\n",
        "# Compile the model\n",
        "model.compile(optimizer=optimizer, loss='categorical_crossentropy', metrics=['accuracy'])\n",
        "\n",
        "# Define callbacks for early stopping and model checkpointing\n",
        "early_stopping = EarlyStopping(monitor='val_loss', patience=5, verbose=1, mode='min', restore_best_weights=True)\n",
        "checkpoint = ModelCheckpoint('model.h5', monitor='val_loss', save_best_only=True, verbose=1)"
      ],
      "metadata": {
        "id": "KU_gwVm0b3XE"
      },
      "execution_count": null,
      "outputs": []
    },
    {
      "cell_type": "code",
      "execution_count": null,
      "metadata": {
        "id": "kfF1_g6IXIbp",
        "colab": {
          "base_uri": "https://localhost:8080/"
        },
        "outputId": "8f109054-8002-4e6e-a5d9-ead8d2ddd019"
      },
      "outputs": [
        {
          "output_type": "stream",
          "name": "stdout",
          "text": [
            "Epoch 1/50\n",
            "73/73 [==============================] - ETA: 0s - loss: 1.0055 - accuracy: 0.6205\n",
            "Epoch 1: val_loss improved from inf to 1.95736, saving model to model.h5\n",
            "73/73 [==============================] - 249s 3s/step - loss: 1.0055 - accuracy: 0.6205 - val_loss: 1.9574 - val_accuracy: 0.2973\n",
            "Epoch 2/50\n",
            "73/73 [==============================] - ETA: 0s - loss: 0.6666 - accuracy: 0.7793\n",
            "Epoch 2: val_loss did not improve from 1.95736\n",
            "73/73 [==============================] - 240s 3s/step - loss: 0.6666 - accuracy: 0.7793 - val_loss: 2.1294 - val_accuracy: 0.2973\n",
            "Epoch 3/50\n",
            "73/73 [==============================] - ETA: 0s - loss: 0.5571 - accuracy: 0.8231\n",
            "Epoch 3: val_loss improved from 1.95736 to 1.54568, saving model to model.h5\n",
            "73/73 [==============================] - 245s 3s/step - loss: 0.5571 - accuracy: 0.8231 - val_loss: 1.5457 - val_accuracy: 0.3127\n",
            "Epoch 4/50\n",
            "73/73 [==============================] - ETA: 0s - loss: 0.4731 - accuracy: 0.8653\n",
            "Epoch 4: val_loss improved from 1.54568 to 1.41607, saving model to model.h5\n",
            "73/73 [==============================] - 245s 3s/step - loss: 0.4731 - accuracy: 0.8653 - val_loss: 1.4161 - val_accuracy: 0.3629\n",
            "Epoch 5/50\n",
            "73/73 [==============================] - ETA: 0s - loss: 0.4201 - accuracy: 0.8808\n",
            "Epoch 5: val_loss improved from 1.41607 to 1.34696, saving model to model.h5\n",
            "73/73 [==============================] - 243s 3s/step - loss: 0.4201 - accuracy: 0.8808 - val_loss: 1.3470 - val_accuracy: 0.4247\n",
            "Epoch 6/50\n",
            "73/73 [==============================] - ETA: 0s - loss: 0.3871 - accuracy: 0.8963\n",
            "Epoch 6: val_loss improved from 1.34696 to 0.75668, saving model to model.h5\n",
            "73/73 [==============================] - 243s 3s/step - loss: 0.3871 - accuracy: 0.8963 - val_loss: 0.7567 - val_accuracy: 0.7413\n",
            "Epoch 7/50\n",
            "73/73 [==============================] - ETA: 0s - loss: 0.3320 - accuracy: 0.9204\n",
            "Epoch 7: val_loss did not improve from 0.75668\n",
            "73/73 [==============================] - 244s 3s/step - loss: 0.3320 - accuracy: 0.9204 - val_loss: 0.7743 - val_accuracy: 0.7066\n",
            "Epoch 8/50\n",
            "73/73 [==============================] - ETA: 0s - loss: 0.3180 - accuracy: 0.9217\n",
            "Epoch 8: val_loss improved from 0.75668 to 0.52846, saving model to model.h5\n",
            "73/73 [==============================] - 243s 3s/step - loss: 0.3180 - accuracy: 0.9217 - val_loss: 0.5285 - val_accuracy: 0.8108\n",
            "Epoch 9/50\n",
            "73/73 [==============================] - ETA: 0s - loss: 0.2809 - accuracy: 0.9350\n",
            "Epoch 9: val_loss did not improve from 0.52846\n",
            "73/73 [==============================] - 243s 3s/step - loss: 0.2809 - accuracy: 0.9350 - val_loss: 0.5482 - val_accuracy: 0.7954\n",
            "Epoch 10/50\n",
            "73/73 [==============================] - ETA: 0s - loss: 0.2542 - accuracy: 0.9432\n",
            "Epoch 10: val_loss improved from 0.52846 to 0.49107, saving model to model.h5\n",
            "73/73 [==============================] - 242s 3s/step - loss: 0.2542 - accuracy: 0.9432 - val_loss: 0.4911 - val_accuracy: 0.8533\n",
            "Epoch 11/50\n",
            "73/73 [==============================] - ETA: 0s - loss: 0.2435 - accuracy: 0.9527\n",
            "Epoch 11: val_loss improved from 0.49107 to 0.44471, saving model to model.h5\n",
            "73/73 [==============================] - 242s 3s/step - loss: 0.2435 - accuracy: 0.9527 - val_loss: 0.4447 - val_accuracy: 0.8494\n",
            "Epoch 12/50\n",
            "73/73 [==============================] - ETA: 0s - loss: 0.2076 - accuracy: 0.9686\n",
            "Epoch 12: val_loss did not improve from 0.44471\n",
            "73/73 [==============================] - 242s 3s/step - loss: 0.2076 - accuracy: 0.9686 - val_loss: 0.4926 - val_accuracy: 0.8340\n",
            "Epoch 13/50\n",
            "73/73 [==============================] - ETA: 0s - loss: 0.2212 - accuracy: 0.9531\n",
            "Epoch 13: val_loss improved from 0.44471 to 0.37844, saving model to model.h5\n",
            "73/73 [==============================] - 243s 3s/step - loss: 0.2212 - accuracy: 0.9531 - val_loss: 0.3784 - val_accuracy: 0.8842\n",
            "Epoch 14/50\n",
            "73/73 [==============================] - ETA: 0s - loss: 0.2037 - accuracy: 0.9656\n",
            "Epoch 14: val_loss did not improve from 0.37844\n",
            "73/73 [==============================] - 245s 3s/step - loss: 0.2037 - accuracy: 0.9656 - val_loss: 0.3897 - val_accuracy: 0.8687\n",
            "Epoch 15/50\n",
            "73/73 [==============================] - ETA: 0s - loss: 0.1958 - accuracy: 0.9621\n",
            "Epoch 15: val_loss did not improve from 0.37844\n",
            "73/73 [==============================] - 242s 3s/step - loss: 0.1958 - accuracy: 0.9621 - val_loss: 0.5972 - val_accuracy: 0.8108\n",
            "Epoch 16/50\n",
            "73/73 [==============================] - ETA: 0s - loss: 0.1885 - accuracy: 0.9682\n",
            "Epoch 16: val_loss did not improve from 0.37844\n",
            "73/73 [==============================] - 239s 3s/step - loss: 0.1885 - accuracy: 0.9682 - val_loss: 0.3859 - val_accuracy: 0.8764\n",
            "Epoch 17/50\n",
            "73/73 [==============================] - ETA: 0s - loss: 0.1949 - accuracy: 0.9626\n",
            "Epoch 17: val_loss did not improve from 0.37844\n",
            "73/73 [==============================] - 241s 3s/step - loss: 0.1949 - accuracy: 0.9626 - val_loss: 0.4750 - val_accuracy: 0.8571\n",
            "Epoch 18/50\n",
            "73/73 [==============================] - ETA: 0s - loss: 0.1902 - accuracy: 0.9660\n",
            "Epoch 18: val_loss improved from 0.37844 to 0.37456, saving model to model.h5\n",
            "73/73 [==============================] - 241s 3s/step - loss: 0.1902 - accuracy: 0.9660 - val_loss: 0.3746 - val_accuracy: 0.8842\n",
            "Epoch 19/50\n",
            "73/73 [==============================] - ETA: 0s - loss: 0.1829 - accuracy: 0.9707\n",
            "Epoch 19: val_loss improved from 0.37456 to 0.36259, saving model to model.h5\n",
            "73/73 [==============================] - 239s 3s/step - loss: 0.1829 - accuracy: 0.9707 - val_loss: 0.3626 - val_accuracy: 0.8880\n",
            "Epoch 20/50\n",
            "73/73 [==============================] - ETA: 0s - loss: 0.1929 - accuracy: 0.9669\n",
            "Epoch 20: val_loss did not improve from 0.36259\n",
            "73/73 [==============================] - 244s 3s/step - loss: 0.1929 - accuracy: 0.9669 - val_loss: 0.5112 - val_accuracy: 0.8378\n",
            "Epoch 21/50\n",
            "73/73 [==============================] - ETA: 0s - loss: 0.1898 - accuracy: 0.9729\n",
            "Epoch 21: val_loss did not improve from 0.36259\n",
            "73/73 [==============================] - 240s 3s/step - loss: 0.1898 - accuracy: 0.9729 - val_loss: 0.4195 - val_accuracy: 0.8764\n",
            "Epoch 22/50\n",
            "73/73 [==============================] - ETA: 0s - loss: 0.1934 - accuracy: 0.9699\n",
            "Epoch 22: val_loss did not improve from 0.36259\n",
            "73/73 [==============================] - 243s 3s/step - loss: 0.1934 - accuracy: 0.9699 - val_loss: 0.6843 - val_accuracy: 0.8031\n",
            "Epoch 23/50\n",
            "73/73 [==============================] - ETA: 0s - loss: 0.1847 - accuracy: 0.9664\n",
            "Epoch 23: val_loss did not improve from 0.36259\n",
            "73/73 [==============================] - 243s 3s/step - loss: 0.1847 - accuracy: 0.9664 - val_loss: 1.3097 - val_accuracy: 0.6873\n",
            "Epoch 24/50\n",
            "73/73 [==============================] - ETA: 0s - loss: 0.1913 - accuracy: 0.9686\n",
            "Epoch 24: val_loss improved from 0.36259 to 0.34705, saving model to model.h5\n",
            "73/73 [==============================] - 244s 3s/step - loss: 0.1913 - accuracy: 0.9686 - val_loss: 0.3470 - val_accuracy: 0.8958\n",
            "Epoch 25/50\n",
            "73/73 [==============================] - ETA: 0s - loss: 0.1615 - accuracy: 0.9824\n",
            "Epoch 25: val_loss did not improve from 0.34705\n",
            "73/73 [==============================] - 240s 3s/step - loss: 0.1615 - accuracy: 0.9824 - val_loss: 0.3632 - val_accuracy: 0.9112\n",
            "Epoch 26/50\n",
            "73/73 [==============================] - ETA: 0s - loss: 0.1941 - accuracy: 0.9673\n",
            "Epoch 26: val_loss did not improve from 0.34705\n",
            "73/73 [==============================] - 244s 3s/step - loss: 0.1941 - accuracy: 0.9673 - val_loss: 0.5248 - val_accuracy: 0.8417\n",
            "Epoch 27/50\n",
            "73/73 [==============================] - ETA: 0s - loss: 0.1833 - accuracy: 0.9716\n",
            "Epoch 27: val_loss did not improve from 0.34705\n",
            "73/73 [==============================] - 244s 3s/step - loss: 0.1833 - accuracy: 0.9716 - val_loss: 0.3943 - val_accuracy: 0.8880\n",
            "Epoch 28/50\n",
            "73/73 [==============================] - ETA: 0s - loss: 0.1784 - accuracy: 0.9772\n",
            "Epoch 28: val_loss did not improve from 0.34705\n",
            "73/73 [==============================] - 242s 3s/step - loss: 0.1784 - accuracy: 0.9772 - val_loss: 0.3506 - val_accuracy: 0.9073\n",
            "Epoch 29/50\n",
            "73/73 [==============================] - ETA: 0s - loss: 0.1695 - accuracy: 0.9793Restoring model weights from the end of the best epoch: 24.\n",
            "\n",
            "Epoch 29: val_loss did not improve from 0.34705\n",
            "73/73 [==============================] - 254s 3s/step - loss: 0.1695 - accuracy: 0.9793 - val_loss: 0.4549 - val_accuracy: 0.8649\n",
            "Epoch 29: early stopping\n"
          ]
        }
      ],
      "source": [
        "# Train the model\n",
        "history = model.fit(X_train, y_train, batch_size=batch_size, epochs=epochs, validation_split=validation_split, callbacks=[early_stopping, checkpoint])"
      ]
    },
    {
      "cell_type": "code",
      "source": [
        "# Evaluate the model on the test set\n",
        "test_loss, test_acc = model.evaluate(X_test, y_test)\n",
        "print('Test loss:', test_loss)\n",
        "print('Test accuracy:', test_acc)"
      ],
      "metadata": {
        "colab": {
          "base_uri": "https://localhost:8080/"
        },
        "id": "tHsHZ2n7H7NG",
        "outputId": "e67968d4-8f98-4974-f0e4-fea30b2656d9"
      },
      "execution_count": null,
      "outputs": [
        {
          "output_type": "stream",
          "name": "stdout",
          "text": [
            "13/13 [==============================] - 13s 863ms/step - loss: 1.8508 - accuracy: 0.6929\n",
            "Test loss: 1.850795030593872\n",
            "Test accuracy: 0.692893385887146\n"
          ]
        }
      ]
    },
    {
      "cell_type": "code",
      "source": [
        "\n",
        "import matplotlib.pyplot as plt"
      ],
      "metadata": {
        "id": "hVbqYwuHIeqF"
      },
      "execution_count": null,
      "outputs": []
    }
  ],
  "metadata": {
    "colab": {
      "provenance": [],
      "include_colab_link": true
    },
    "kernelspec": {
      "display_name": "Python 3",
      "name": "python3"
    },
    "language_info": {
      "name": "python"
    }
  },
  "nbformat": 4,
  "nbformat_minor": 0
}